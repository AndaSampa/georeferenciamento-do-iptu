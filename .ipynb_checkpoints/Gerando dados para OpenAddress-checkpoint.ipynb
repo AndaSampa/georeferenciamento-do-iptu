{
 "cells": [
  {
   "cell_type": "code",
   "execution_count": 1,
   "metadata": {},
   "outputs": [],
   "source": [
    "import pandas as pd\n",
    "import geopandas as gpd"
   ]
  },
  {
   "cell_type": "code",
   "execution_count": 2,
   "metadata": {},
   "outputs": [
    {
     "data": {
      "text/html": [
       "<pre>✔️ 1.2 ms (2021-02-16T09:37:01/2021-02-16T09:37:01)</pre>"
      ],
      "text/plain": [
       "<IPython.core.display.HTML object>"
      ]
     },
     "metadata": {},
     "output_type": "display_data"
    }
   ],
   "source": [
    "# Carrengando um complemento para visualizar quanto tempo demoram as tarefas\n",
    "\n",
    "%load_ext autotime"
   ]
  },
  {
   "cell_type": "code",
   "execution_count": 3,
   "metadata": {},
   "outputs": [
    {
     "data": {
      "text/html": [
       "<pre>✔️ 19.3 s (2021-02-16T09:37:01/2021-02-16T09:37:21)</pre>"
      ],
      "text/plain": [
       "<IPython.core.display.HTML object>"
      ]
     },
     "metadata": {},
     "output_type": "display_data"
    }
   ],
   "source": [
    "df_iptu = pd.read_csv('IPTU/IPTU_2020.zip', \\\n",
    "                      compression='zip', encoding='iso-8859-9', \\\n",
    "                      sep=';', decimal=',')"
   ]
  },
  {
   "cell_type": "code",
   "execution_count": 4,
   "metadata": {},
   "outputs": [
    {
     "data": {
      "text/html": [
       "<pre>✔️ 1.91 s (2021-02-16T09:37:21/2021-02-16T09:37:23)</pre>"
      ],
      "text/plain": [
       "<IPython.core.display.HTML object>"
      ]
     },
     "metadata": {},
     "output_type": "display_data"
    }
   ],
   "source": [
    "df_iptu['SQLC'] = df_iptu['NUMERO DO CONTRIBUINTE'].str[0:10] + \\\n",
    "df_iptu['NUMERO DO CONDOMINIO'].str[0:2]"
   ]
  },
  {
   "cell_type": "code",
   "execution_count": 5,
   "metadata": {},
   "outputs": [
    {
     "data": {
      "text/html": [
       "<pre>✔️ 336 µs (2021-02-16T09:37:23/2021-02-16T09:37:23)</pre>"
      ],
      "text/plain": [
       "<IPython.core.display.HTML object>"
      ]
     },
     "metadata": {},
     "output_type": "display_data"
    }
   ],
   "source": [
    "campos = ['SQLC',\n",
    "         'NOME DE LOGRADOURO DO IMOVEL', \n",
    "         'NUMERO DO IMOVEL',\n",
    "         'COMPLEMENTO DO IMOVEL',\n",
    "         'CEP DO IMOVEL',\n",
    "         'TIPO DE USO DO IMOVEL']"
   ]
  },
  {
   "cell_type": "code",
   "execution_count": 14,
   "metadata": {
    "scrolled": true
   },
   "outputs": [
    {
     "data": {
      "text/html": [
       "<pre>✔️ 1.41 s (2021-02-16T09:39:12/2021-02-16T09:39:13)</pre>"
      ],
      "text/plain": [
       "<IPython.core.display.HTML object>"
      ]
     },
     "metadata": {},
     "output_type": "display_data"
    }
   ],
   "source": [
    "# df_iptu['NUMERO DO IMOVEL'] = df_iptu['NUMERO DO IMOVEL'][df_iptu['NUMERO DO IMOVEL'].notna()].astype(int)\n",
    "df_iptu.loc[df_iptu['NUMERO DO IMOVEL'].isna(), 'NUMERO DO IMOVEL'] = 0\n",
    "df_iptu = df_iptu.astype({'NUMERO DO IMOVEL':'int32'})\n",
    "# df_iptu['numero_de_porta'] = df_iptu['NUMERO DO IMOVEL'][df_iptu['NUMERO DO IMOVEL'].notna()].astype('int32')"
   ]
  },
  {
   "cell_type": "code",
   "execution_count": 24,
   "metadata": {},
   "outputs": [
    {
     "data": {
      "text/html": [
       "<pre>✔️ 1.01 s (2021-02-16T09:42:23/2021-02-16T09:42:24)</pre>"
      ],
      "text/plain": [
       "<IPython.core.display.HTML object>"
      ]
     },
     "metadata": {},
     "output_type": "display_data"
    }
   ],
   "source": [
    "df_iptu['NOME DE LOGRADOURO DO IMOVEL'] = df_iptu['NOME DE LOGRADOURO DO IMOVEL'].str.title()"
   ]
  },
  {
   "cell_type": "code",
   "execution_count": 25,
   "metadata": {},
   "outputs": [
    {
     "data": {
      "text/html": [
       "<pre>✔️ 834 ms (2021-02-16T09:42:57/2021-02-16T09:42:58)</pre>"
      ],
      "text/plain": [
       "<IPython.core.display.HTML object>"
      ]
     },
     "metadata": {},
     "output_type": "display_data"
    }
   ],
   "source": [
    "df_iptu['COMPLEMENTO DO IMOVEL'] = df_iptu['COMPLEMENTO DO IMOVEL'].str.title()"
   ]
  },
  {
   "cell_type": "code",
   "execution_count": 31,
   "metadata": {},
   "outputs": [
    {
     "data": {
      "text/html": [
       "<pre>✔️ 26.9 s (2021-02-16T11:09:26/2021-02-16T11:09:53)</pre>"
      ],
      "text/plain": [
       "<IPython.core.display.HTML object>"
      ]
     },
     "metadata": {},
     "output_type": "display_data"
    }
   ],
   "source": [
    "gdf_coords = gpd.read_file('resultados/lotes-por-pontos.gpkg')"
   ]
  },
  {
   "cell_type": "code",
   "execution_count": 39,
   "metadata": {},
   "outputs": [
    {
     "data": {
      "text/html": [
       "<pre>✔️ 25.3 s (2021-02-16T11:14:37/2021-02-16T11:15:02)</pre>"
      ],
      "text/plain": [
       "<IPython.core.display.HTML object>"
      ]
     },
     "metadata": {},
     "output_type": "display_data"
    }
   ],
   "source": [
    "gdf_coords['X'] = gdf_coords.geometry.x\n",
    "gdf_coords['Y'] = gdf_coords.geometry.y"
   ]
  },
  {
   "cell_type": "code",
   "execution_count": 40,
   "metadata": {},
   "outputs": [
    {
     "data": {
      "text/html": [
       "<pre>✔️ 3.62 s (2021-02-16T11:15:44/2021-02-16T11:15:47)</pre>"
      ],
      "text/plain": [
       "<IPython.core.display.HTML object>"
      ]
     },
     "metadata": {},
     "output_type": "display_data"
    },
    {
     "data": {
      "text/html": [
       "<div>\n",
       "<style scoped>\n",
       "    .dataframe tbody tr th:only-of-type {\n",
       "        vertical-align: middle;\n",
       "    }\n",
       "\n",
       "    .dataframe tbody tr th {\n",
       "        vertical-align: top;\n",
       "    }\n",
       "\n",
       "    .dataframe thead th {\n",
       "        text-align: right;\n",
       "    }\n",
       "</style>\n",
       "<table border=\"1\" class=\"dataframe\">\n",
       "  <thead>\n",
       "    <tr style=\"text-align: right;\">\n",
       "      <th></th>\n",
       "      <th>SQLC</th>\n",
       "      <th>NOME DE LOGRADOURO DO IMOVEL</th>\n",
       "      <th>NUMERO DO IMOVEL</th>\n",
       "      <th>COMPLEMENTO DO IMOVEL</th>\n",
       "      <th>CEP DO IMOVEL</th>\n",
       "      <th>TIPO DE USO DO IMOVEL</th>\n",
       "      <th>geometry</th>\n",
       "      <th>X</th>\n",
       "      <th>Y</th>\n",
       "    </tr>\n",
       "  </thead>\n",
       "  <tbody>\n",
       "    <tr>\n",
       "      <th>0</th>\n",
       "      <td>001003000100</td>\n",
       "      <td>R S Caetano</td>\n",
       "      <td>13</td>\n",
       "      <td>NaN</td>\n",
       "      <td>01104-001</td>\n",
       "      <td>Loja</td>\n",
       "      <td>POINT (-46.63183 -23.53296)</td>\n",
       "      <td>-46.631825</td>\n",
       "      <td>-23.532955</td>\n",
       "    </tr>\n",
       "    <tr>\n",
       "      <th>1</th>\n",
       "      <td>001003000100</td>\n",
       "      <td>R S Caetano</td>\n",
       "      <td>13</td>\n",
       "      <td>NaN</td>\n",
       "      <td>01104-001</td>\n",
       "      <td>Loja</td>\n",
       "      <td>POINT (-46.63286 -23.53436)</td>\n",
       "      <td>-46.632863</td>\n",
       "      <td>-23.534357</td>\n",
       "    </tr>\n",
       "    <tr>\n",
       "      <th>2</th>\n",
       "      <td>001003000200</td>\n",
       "      <td>R S Caetano</td>\n",
       "      <td>19</td>\n",
       "      <td>NaN</td>\n",
       "      <td>01104-001</td>\n",
       "      <td>Loja</td>\n",
       "      <td>POINT (-46.63279 -23.53438)</td>\n",
       "      <td>-46.632790</td>\n",
       "      <td>-23.534376</td>\n",
       "    </tr>\n",
       "    <tr>\n",
       "      <th>3</th>\n",
       "      <td>001003000300</td>\n",
       "      <td>R S Caetano</td>\n",
       "      <td>27</td>\n",
       "      <td>NaN</td>\n",
       "      <td>01104-001</td>\n",
       "      <td>Loja</td>\n",
       "      <td>POINT (-46.63272 -23.53438)</td>\n",
       "      <td>-46.632722</td>\n",
       "      <td>-23.534379</td>\n",
       "    </tr>\n",
       "    <tr>\n",
       "      <th>4</th>\n",
       "      <td>001003000400</td>\n",
       "      <td>R S Caetano</td>\n",
       "      <td>33</td>\n",
       "      <td>NaN</td>\n",
       "      <td>01104-001</td>\n",
       "      <td>Loja</td>\n",
       "      <td>POINT (-46.63266 -23.53438)</td>\n",
       "      <td>-46.632657</td>\n",
       "      <td>-23.534385</td>\n",
       "    </tr>\n",
       "    <tr>\n",
       "      <th>...</th>\n",
       "      <td>...</td>\n",
       "      <td>...</td>\n",
       "      <td>...</td>\n",
       "      <td>...</td>\n",
       "      <td>...</td>\n",
       "      <td>...</td>\n",
       "      <td>...</td>\n",
       "      <td>...</td>\n",
       "      <td>...</td>\n",
       "    </tr>\n",
       "    <tr>\n",
       "      <th>3508154</th>\n",
       "      <td>310118023801</td>\n",
       "      <td>Av Eng Armando De Arruda Pereira</td>\n",
       "      <td>1827</td>\n",
       "      <td>Ap 42</td>\n",
       "      <td>04309-011</td>\n",
       "      <td>Apartamento em condomínio</td>\n",
       "      <td>None</td>\n",
       "      <td>NaN</td>\n",
       "      <td>NaN</td>\n",
       "    </tr>\n",
       "    <tr>\n",
       "      <th>3508155</th>\n",
       "      <td>310118023901</td>\n",
       "      <td>Av Eng Armando De Arruda Pereira</td>\n",
       "      <td>1827</td>\n",
       "      <td>Ap 43</td>\n",
       "      <td>04309-011</td>\n",
       "      <td>Apartamento em condomínio</td>\n",
       "      <td>None</td>\n",
       "      <td>NaN</td>\n",
       "      <td>NaN</td>\n",
       "    </tr>\n",
       "    <tr>\n",
       "      <th>3508156</th>\n",
       "      <td>310118024001</td>\n",
       "      <td>Av Eng Armando De Arruda Pereira</td>\n",
       "      <td>1827</td>\n",
       "      <td>Ap 44</td>\n",
       "      <td>04309-011</td>\n",
       "      <td>Apartamento em condomínio</td>\n",
       "      <td>None</td>\n",
       "      <td>NaN</td>\n",
       "      <td>NaN</td>\n",
       "    </tr>\n",
       "    <tr>\n",
       "      <th>3508157</th>\n",
       "      <td>310119000100</td>\n",
       "      <td>R  Cotipora</td>\n",
       "      <td>0</td>\n",
       "      <td>NaN</td>\n",
       "      <td>04317-060</td>\n",
       "      <td>Terreno</td>\n",
       "      <td>POINT (-46.63133 -23.64445)</td>\n",
       "      <td>-46.631329</td>\n",
       "      <td>-23.644451</td>\n",
       "    </tr>\n",
       "    <tr>\n",
       "      <th>3508158</th>\n",
       "      <td>310120000100</td>\n",
       "      <td>R  Ambores</td>\n",
       "      <td>0</td>\n",
       "      <td>NaN</td>\n",
       "      <td>04319-110</td>\n",
       "      <td>Terreno</td>\n",
       "      <td>None</td>\n",
       "      <td>NaN</td>\n",
       "      <td>NaN</td>\n",
       "    </tr>\n",
       "  </tbody>\n",
       "</table>\n",
       "<p>3508159 rows × 9 columns</p>\n",
       "</div>"
      ],
      "text/plain": [
       "                 SQLC      NOME DE LOGRADOURO DO IMOVEL  NUMERO DO IMOVEL  \\\n",
       "0        001003000100                       R S Caetano                13   \n",
       "1        001003000100                       R S Caetano                13   \n",
       "2        001003000200                       R S Caetano                19   \n",
       "3        001003000300                       R S Caetano                27   \n",
       "4        001003000400                       R S Caetano                33   \n",
       "...               ...                               ...               ...   \n",
       "3508154  310118023801  Av Eng Armando De Arruda Pereira              1827   \n",
       "3508155  310118023901  Av Eng Armando De Arruda Pereira              1827   \n",
       "3508156  310118024001  Av Eng Armando De Arruda Pereira              1827   \n",
       "3508157  310119000100                       R  Cotipora                 0   \n",
       "3508158  310120000100                        R  Ambores                 0   \n",
       "\n",
       "        COMPLEMENTO DO IMOVEL CEP DO IMOVEL      TIPO DE USO DO IMOVEL  \\\n",
       "0                         NaN     01104-001                       Loja   \n",
       "1                         NaN     01104-001                       Loja   \n",
       "2                         NaN     01104-001                       Loja   \n",
       "3                         NaN     01104-001                       Loja   \n",
       "4                         NaN     01104-001                       Loja   \n",
       "...                       ...           ...                        ...   \n",
       "3508154                 Ap 42     04309-011  Apartamento em condomínio   \n",
       "3508155                 Ap 43     04309-011  Apartamento em condomínio   \n",
       "3508156                 Ap 44     04309-011  Apartamento em condomínio   \n",
       "3508157                   NaN     04317-060                    Terreno   \n",
       "3508158                   NaN     04319-110                    Terreno   \n",
       "\n",
       "                            geometry          X          Y  \n",
       "0        POINT (-46.63183 -23.53296) -46.631825 -23.532955  \n",
       "1        POINT (-46.63286 -23.53436) -46.632863 -23.534357  \n",
       "2        POINT (-46.63279 -23.53438) -46.632790 -23.534376  \n",
       "3        POINT (-46.63272 -23.53438) -46.632722 -23.534379  \n",
       "4        POINT (-46.63266 -23.53438) -46.632657 -23.534385  \n",
       "...                              ...        ...        ...  \n",
       "3508154                         None        NaN        NaN  \n",
       "3508155                         None        NaN        NaN  \n",
       "3508156                         None        NaN        NaN  \n",
       "3508157  POINT (-46.63133 -23.64445) -46.631329 -23.644451  \n",
       "3508158                         None        NaN        NaN  \n",
       "\n",
       "[3508159 rows x 9 columns]"
      ]
     },
     "execution_count": 40,
     "metadata": {},
     "output_type": "execute_result"
    }
   ],
   "source": [
    "df_iptu[campos].merge(gdf_coords, on='SQLC', how='left')"
   ]
  },
  {
   "cell_type": "code",
   "execution_count": null,
   "metadata": {},
   "outputs": [],
   "source": []
  },
  {
   "cell_type": "code",
   "execution_count": 27,
   "metadata": {},
   "outputs": [
    {
     "data": {
      "text/html": [
       "<pre>✔️ 20.3 s (2021-02-16T09:53:41/2021-02-16T09:54:01)</pre>"
      ],
      "text/plain": [
       "<IPython.core.display.HTML object>"
      ]
     },
     "metadata": {},
     "output_type": "display_data"
    }
   ],
   "source": [
    "df_iptu[campos].to_csv('resultados/sao-paulo-address-IPTU-2021.csv.gz', \n",
    "                       index=False, \n",
    "                       compression='gzip')"
   ]
  },
  {
   "cell_type": "code",
   "execution_count": 10,
   "metadata": {},
   "outputs": [
    {
     "data": {
      "text/html": [
       "<pre>✔️ 2.69 ms (2021-02-16T09:25:01/2021-02-16T09:25:01)</pre>"
      ],
      "text/plain": [
       "<IPython.core.display.HTML object>"
      ]
     },
     "metadata": {},
     "output_type": "display_data"
    },
    {
     "data": {
      "text/plain": [
       "Index(['NUMERO DO CONTRIBUINTE', 'ANO DO EXERCICIO', 'NUMERO DA NL',\n",
       "       'DATA DO CADASTRAMENTO', 'TIPO DE CONTRIBUINTE 1',\n",
       "       'CPF/CNPJ DO CONTRIBUINTE 1', 'NOME DO CONTRIBUINTE 1',\n",
       "       'TIPO DE CONTRIBUINTE 2', 'CPF/CNPJ DO CONTRIBUINTE 2',\n",
       "       'NOME DO CONTRIBUINTE 2', 'NUMERO DO CONDOMINIO', 'CODLOG DO IMOVEL',\n",
       "       'NOME DE LOGRADOURO DO IMOVEL', 'NUMERO DO IMOVEL',\n",
       "       'COMPLEMENTO DO IMOVEL', 'BAIRRO DO IMOVEL', 'REFERENCIA DO IMOVEL',\n",
       "       'CEP DO IMOVEL', 'QUANTIDADE DE ESQUINAS/FRENTES', 'FRACAO IDEAL',\n",
       "       'AREA DO TERRENO', 'AREA CONSTRUIDA', 'AREA OCUPADA',\n",
       "       'VALOR DO M2 DO TERRENO', 'VALOR DO M2 DE CONSTRUCAO',\n",
       "       'ANO DA CONSTRUCAO CORRIGIDO', 'QUANTIDADE DE PAVIMENTOS',\n",
       "       'TESTADA PARA CALCULO', 'TIPO DE USO DO IMOVEL',\n",
       "       'TIPO DE PADRAO DA CONSTRUCAO', 'TIPO DE TERRENO',\n",
       "       'FATOR DE OBSOLESCENCIA', 'ANO DE INICIO DA VIDA DO CONTRIBUINTE',\n",
       "       'MES DE INICIO DA VIDA DO CONTRIBUINTE', 'FASE DO CONTRIBUINTE',\n",
       "       'SQLC'],\n",
       "      dtype='object')"
      ]
     },
     "execution_count": 10,
     "metadata": {},
     "output_type": "execute_result"
    }
   ],
   "source": [
    "df_iptu.columns"
   ]
  },
  {
   "cell_type": "code",
   "execution_count": null,
   "metadata": {},
   "outputs": [],
   "source": []
  },
  {
   "cell_type": "code",
   "execution_count": 9,
   "metadata": {},
   "outputs": [
    {
     "data": {
      "text/html": [
       "<pre>✔️ 10.6 s (2021-02-16T09:24:50/2021-02-16T09:25:01)</pre>"
      ],
      "text/plain": [
       "<IPython.core.display.HTML object>"
      ]
     },
     "metadata": {},
     "output_type": "display_data"
    },
    {
     "data": {
      "text/plain": [
       "R                2819050\n",
       "DE                513244\n",
       "AV                506628\n",
       "DA                167653\n",
       "DR                143987\n",
       "                  ...   \n",
       "ARACATI-MIRIM          1\n",
       "LETONIA                1\n",
       "TAIO                   1\n",
       "MENFIS                 1\n",
       "PRISCA                 1\n",
       "Length: 21859, dtype: int64"
      ]
     },
     "execution_count": 9,
     "metadata": {},
     "output_type": "execute_result"
    }
   ],
   "source": [
    "df_iptu['NOME DE LOGRADOURO DO IMOVEL'].str.split(expand=True).stack().value_counts()"
   ]
  }
 ],
 "metadata": {
  "kernelspec": {
   "display_name": "Python 3",
   "language": "python",
   "name": "python3"
  },
  "language_info": {
   "codemirror_mode": {
    "name": "ipython",
    "version": 3
   },
   "file_extension": ".py",
   "mimetype": "text/x-python",
   "name": "python",
   "nbconvert_exporter": "python",
   "pygments_lexer": "ipython3",
   "version": "3.8.2"
  }
 },
 "nbformat": 4,
 "nbformat_minor": 4
}
