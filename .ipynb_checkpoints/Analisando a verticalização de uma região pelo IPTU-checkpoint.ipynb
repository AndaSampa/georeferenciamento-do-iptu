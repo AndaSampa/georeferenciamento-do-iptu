{
 "cells": [
  {
   "cell_type": "markdown",
   "metadata": {},
   "source": [
    "# Analisando a verticalização de uma região pelo IPTU \n",
    "\n",
    "Neste NoteBook vamos demonstrar como extrair informações de relavência para a compreensão das dinêmicas da cidade com a base de dados de IPTU espacializando a informação.\n",
    "\n",
    "Nesse caso vamos analisar a verticalização por quadra fiscal em uma determinada sub, gerando gráficos e mapas"
   ]
  },
  {
   "cell_type": "code",
   "execution_count": 1,
   "metadata": {},
   "outputs": [
    {
     "data": {
      "text/html": [
       "<div>\n",
       "<style scoped>\n",
       "    .dataframe tbody tr th:only-of-type {\n",
       "        vertical-align: middle;\n",
       "    }\n",
       "\n",
       "    .dataframe tbody tr th {\n",
       "        vertical-align: top;\n",
       "    }\n",
       "\n",
       "    .dataframe thead th {\n",
       "        text-align: right;\n",
       "    }\n",
       "</style>\n",
       "<table border=\"1\" class=\"dataframe\">\n",
       "  <thead>\n",
       "    <tr style=\"text-align: right;\">\n",
       "      <th></th>\n",
       "      <th>NUMERO DO CONTRIBUINTE</th>\n",
       "      <th>ANO DO EXERCICIO</th>\n",
       "      <th>NUMERO DA NL</th>\n",
       "      <th>DATA DO CADASTRAMENTO</th>\n",
       "      <th>TIPO DE CONTRIBUINTE 1</th>\n",
       "      <th>CPF/CNPJ DO CONTRIBUINTE 1</th>\n",
       "      <th>NOME DO CONTRIBUINTE 1</th>\n",
       "      <th>TIPO DE CONTRIBUINTE 2</th>\n",
       "      <th>CPF/CNPJ DO CONTRIBUINTE 2</th>\n",
       "      <th>NOME DO CONTRIBUINTE 2</th>\n",
       "      <th>...</th>\n",
       "      <th>ANO DA CONSTRUCAO CORRIGIDO</th>\n",
       "      <th>QUANTIDADE DE PAVIMENTOS</th>\n",
       "      <th>TESTADA PARA CALCULO</th>\n",
       "      <th>TIPO DE USO DO IMOVEL</th>\n",
       "      <th>TIPO DE PADRAO DA CONSTRUCAO</th>\n",
       "      <th>TIPO DE TERRENO</th>\n",
       "      <th>FATOR DE OBSOLESCENCIA</th>\n",
       "      <th>ANO DE INICIO DA VIDA DO CONTRIBUINTE</th>\n",
       "      <th>MES DE INICIO DA VIDA DO CONTRIBUINTE</th>\n",
       "      <th>FASE DO CONTRIBUINTE</th>\n",
       "    </tr>\n",
       "  </thead>\n",
       "  <tbody>\n",
       "    <tr>\n",
       "      <th>0</th>\n",
       "      <td>0010030001-4</td>\n",
       "      <td>2020</td>\n",
       "      <td>1</td>\n",
       "      <td>11/01/20</td>\n",
       "      <td>PESSOA FISICA (CPF)</td>\n",
       "      <td>XXXXXX0214XXXX</td>\n",
       "      <td>MARCIO MOURCHED</td>\n",
       "      <td>NaN</td>\n",
       "      <td></td>\n",
       "      <td>NaN</td>\n",
       "      <td>...</td>\n",
       "      <td>1924</td>\n",
       "      <td>1</td>\n",
       "      <td>13,00</td>\n",
       "      <td>Loja</td>\n",
       "      <td>Comercial horizontal - padrão B</td>\n",
       "      <td>De esquina</td>\n",
       "      <td>0,20</td>\n",
       "      <td>1963</td>\n",
       "      <td>1</td>\n",
       "      <td>0</td>\n",
       "    </tr>\n",
       "    <tr>\n",
       "      <th>1</th>\n",
       "      <td>0010030002-2</td>\n",
       "      <td>2020</td>\n",
       "      <td>1</td>\n",
       "      <td>11/01/20</td>\n",
       "      <td>PESSOA FISICA (CPF)</td>\n",
       "      <td>XXXXXX0214XXXX</td>\n",
       "      <td>MARCIO MOURCHED</td>\n",
       "      <td>NaN</td>\n",
       "      <td></td>\n",
       "      <td>NaN</td>\n",
       "      <td>...</td>\n",
       "      <td>1944</td>\n",
       "      <td>1</td>\n",
       "      <td>6,00</td>\n",
       "      <td>Loja</td>\n",
       "      <td>Comercial horizontal - padrão B</td>\n",
       "      <td>Normal</td>\n",
       "      <td>0,20</td>\n",
       "      <td>1963</td>\n",
       "      <td>1</td>\n",
       "      <td>0</td>\n",
       "    </tr>\n",
       "    <tr>\n",
       "      <th>2</th>\n",
       "      <td>0010030003-0</td>\n",
       "      <td>2020</td>\n",
       "      <td>1</td>\n",
       "      <td>11/01/20</td>\n",
       "      <td>PESSOA FISICA (CPF)</td>\n",
       "      <td>XXXXXX0214XXXX</td>\n",
       "      <td>MARCIO MOURCHED</td>\n",
       "      <td>NaN</td>\n",
       "      <td></td>\n",
       "      <td>NaN</td>\n",
       "      <td>...</td>\n",
       "      <td>1965</td>\n",
       "      <td>2</td>\n",
       "      <td>7,85</td>\n",
       "      <td>Loja</td>\n",
       "      <td>Comercial horizontal - padrão B</td>\n",
       "      <td>Normal</td>\n",
       "      <td>0,30</td>\n",
       "      <td>1963</td>\n",
       "      <td>1</td>\n",
       "      <td>0</td>\n",
       "    </tr>\n",
       "    <tr>\n",
       "      <th>3</th>\n",
       "      <td>0010030004-9</td>\n",
       "      <td>2020</td>\n",
       "      <td>1</td>\n",
       "      <td>11/01/20</td>\n",
       "      <td>PESSOA FISICA (CPF)</td>\n",
       "      <td>XXXXXX2094XXXX</td>\n",
       "      <td>AUGUSTO CESAR DE MATTOS JUNIOR</td>\n",
       "      <td>NaN</td>\n",
       "      <td></td>\n",
       "      <td>NaN</td>\n",
       "      <td>...</td>\n",
       "      <td>1944</td>\n",
       "      <td>1</td>\n",
       "      <td>6,05</td>\n",
       "      <td>Loja</td>\n",
       "      <td>Comercial horizontal - padrão B</td>\n",
       "      <td>Normal</td>\n",
       "      <td>0,20</td>\n",
       "      <td>1963</td>\n",
       "      <td>1</td>\n",
       "      <td>0</td>\n",
       "    </tr>\n",
       "    <tr>\n",
       "      <th>4</th>\n",
       "      <td>0010030005-7</td>\n",
       "      <td>2020</td>\n",
       "      <td>1</td>\n",
       "      <td>11/01/20</td>\n",
       "      <td>PESSOA FISICA (CPF)</td>\n",
       "      <td>XXXXXX2094XXXX</td>\n",
       "      <td>AUGUSTO CESAR DE MATTOS JUNIOR</td>\n",
       "      <td>NaN</td>\n",
       "      <td></td>\n",
       "      <td>NaN</td>\n",
       "      <td>...</td>\n",
       "      <td>1944</td>\n",
       "      <td>1</td>\n",
       "      <td>6,70</td>\n",
       "      <td>Loja</td>\n",
       "      <td>Comercial horizontal - padrão B</td>\n",
       "      <td>Normal</td>\n",
       "      <td>0,20</td>\n",
       "      <td>1963</td>\n",
       "      <td>1</td>\n",
       "      <td>0</td>\n",
       "    </tr>\n",
       "  </tbody>\n",
       "</table>\n",
       "<p>5 rows × 35 columns</p>\n",
       "</div>"
      ],
      "text/plain": [
       "  NUMERO DO CONTRIBUINTE  ANO DO EXERCICIO  NUMERO DA NL  \\\n",
       "0           0010030001-4              2020             1   \n",
       "1           0010030002-2              2020             1   \n",
       "2           0010030003-0              2020             1   \n",
       "3           0010030004-9              2020             1   \n",
       "4           0010030005-7              2020             1   \n",
       "\n",
       "  DATA DO CADASTRAMENTO TIPO DE CONTRIBUINTE 1 CPF/CNPJ DO CONTRIBUINTE 1  \\\n",
       "0              11/01/20    PESSOA FISICA (CPF)             XXXXXX0214XXXX   \n",
       "1              11/01/20    PESSOA FISICA (CPF)             XXXXXX0214XXXX   \n",
       "2              11/01/20    PESSOA FISICA (CPF)             XXXXXX0214XXXX   \n",
       "3              11/01/20    PESSOA FISICA (CPF)             XXXXXX2094XXXX   \n",
       "4              11/01/20    PESSOA FISICA (CPF)             XXXXXX2094XXXX   \n",
       "\n",
       "           NOME DO CONTRIBUINTE 1 TIPO DE CONTRIBUINTE 2  \\\n",
       "0                 MARCIO MOURCHED                    NaN   \n",
       "1                 MARCIO MOURCHED                    NaN   \n",
       "2                 MARCIO MOURCHED                    NaN   \n",
       "3  AUGUSTO CESAR DE MATTOS JUNIOR                    NaN   \n",
       "4  AUGUSTO CESAR DE MATTOS JUNIOR                    NaN   \n",
       "\n",
       "  CPF/CNPJ DO CONTRIBUINTE 2 NOME DO CONTRIBUINTE 2  ...  \\\n",
       "0                                               NaN  ...   \n",
       "1                                               NaN  ...   \n",
       "2                                               NaN  ...   \n",
       "3                                               NaN  ...   \n",
       "4                                               NaN  ...   \n",
       "\n",
       "  ANO DA CONSTRUCAO CORRIGIDO QUANTIDADE DE PAVIMENTOS TESTADA PARA CALCULO  \\\n",
       "0                        1924                        1                13,00   \n",
       "1                        1944                        1                 6,00   \n",
       "2                        1965                        2                 7,85   \n",
       "3                        1944                        1                 6,05   \n",
       "4                        1944                        1                 6,70   \n",
       "\n",
       "   TIPO DE USO DO IMOVEL     TIPO DE PADRAO DA CONSTRUCAO TIPO DE TERRENO  \\\n",
       "0                   Loja  Comercial horizontal - padrão B      De esquina   \n",
       "1                   Loja  Comercial horizontal - padrão B          Normal   \n",
       "2                   Loja  Comercial horizontal - padrão B          Normal   \n",
       "3                   Loja  Comercial horizontal - padrão B          Normal   \n",
       "4                   Loja  Comercial horizontal - padrão B          Normal   \n",
       "\n",
       "  FATOR DE OBSOLESCENCIA ANO DE INICIO DA VIDA DO CONTRIBUINTE  \\\n",
       "0                   0,20                                  1963   \n",
       "1                   0,20                                  1963   \n",
       "2                   0,30                                  1963   \n",
       "3                   0,20                                  1963   \n",
       "4                   0,20                                  1963   \n",
       "\n",
       "   MES DE INICIO DA VIDA DO CONTRIBUINTE FASE DO CONTRIBUINTE  \n",
       "0                                      1                    0  \n",
       "1                                      1                    0  \n",
       "2                                      1                    0  \n",
       "3                                      1                    0  \n",
       "4                                      1                    0  \n",
       "\n",
       "[5 rows x 35 columns]"
      ]
     },
     "execution_count": 1,
     "metadata": {},
     "output_type": "execute_result"
    }
   ],
   "source": [
    "import pandas as pd\n",
    "\n",
    "df = pd.read_csv(\"./downloads/IPTU_2020.csv\", error_bad_lines=False, encoding='iso-8859-9', sep=';')\n",
    "df.head()"
   ]
  },
  {
   "cell_type": "markdown",
   "metadata": {},
   "source": [
    "## Colunas relevantes\n",
    "\n",
    "Para compreender a verticalização temos dois dados importantes, o `ANO DA CONSTRUCAO CORRIGIDO` e a `QUANTIDADE DE PAVIMENTOS`"
   ]
  },
  {
   "cell_type": "code",
   "execution_count": 2,
   "metadata": {},
   "outputs": [
    {
     "data": {
      "text/plain": [
       "['NUMERO DO CONTRIBUINTE',\n",
       " 'ANO DO EXERCICIO',\n",
       " 'NUMERO DA NL',\n",
       " 'DATA DO CADASTRAMENTO',\n",
       " 'TIPO DE CONTRIBUINTE 1',\n",
       " 'CPF/CNPJ DO CONTRIBUINTE 1',\n",
       " 'NOME DO CONTRIBUINTE 1',\n",
       " 'TIPO DE CONTRIBUINTE 2',\n",
       " 'CPF/CNPJ DO CONTRIBUINTE 2',\n",
       " 'NOME DO CONTRIBUINTE 2',\n",
       " 'NUMERO DO CONDOMINIO',\n",
       " 'CODLOG DO IMOVEL',\n",
       " 'NOME DE LOGRADOURO DO IMOVEL',\n",
       " 'NUMERO DO IMOVEL',\n",
       " 'COMPLEMENTO DO IMOVEL',\n",
       " 'BAIRRO DO IMOVEL',\n",
       " 'REFERENCIA DO IMOVEL',\n",
       " 'CEP DO IMOVEL',\n",
       " 'QUANTIDADE DE ESQUINAS/FRENTES',\n",
       " 'FRACAO IDEAL',\n",
       " 'AREA DO TERRENO',\n",
       " 'AREA CONSTRUIDA',\n",
       " 'AREA OCUPADA',\n",
       " 'VALOR DO M2 DO TERRENO',\n",
       " 'VALOR DO M2 DE CONSTRUCAO',\n",
       " 'ANO DA CONSTRUCAO CORRIGIDO',\n",
       " 'QUANTIDADE DE PAVIMENTOS',\n",
       " 'TESTADA PARA CALCULO',\n",
       " 'TIPO DE USO DO IMOVEL',\n",
       " 'TIPO DE PADRAO DA CONSTRUCAO',\n",
       " 'TIPO DE TERRENO',\n",
       " 'FATOR DE OBSOLESCENCIA',\n",
       " 'ANO DE INICIO DA VIDA DO CONTRIBUINTE',\n",
       " 'MES DE INICIO DA VIDA DO CONTRIBUINTE',\n",
       " 'FASE DO CONTRIBUINTE']"
      ]
     },
     "execution_count": 2,
     "metadata": {},
     "output_type": "execute_result"
    }
   ],
   "source": [
    "list(df.columns)"
   ]
  },
  {
   "cell_type": "code",
   "execution_count": 3,
   "metadata": {},
   "outputs": [
    {
     "data": {
      "text/html": [
       "<div>\n",
       "<style scoped>\n",
       "    .dataframe tbody tr th:only-of-type {\n",
       "        vertical-align: middle;\n",
       "    }\n",
       "\n",
       "    .dataframe tbody tr th {\n",
       "        vertical-align: top;\n",
       "    }\n",
       "\n",
       "    .dataframe thead th {\n",
       "        text-align: right;\n",
       "    }\n",
       "</style>\n",
       "<table border=\"1\" class=\"dataframe\">\n",
       "  <thead>\n",
       "    <tr style=\"text-align: right;\">\n",
       "      <th></th>\n",
       "      <th>NUMERO DO CONTRIBUINTE</th>\n",
       "      <th>ANO DA CONSTRUCAO CORRIGIDO</th>\n",
       "      <th>QUANTIDADE DE PAVIMENTOS</th>\n",
       "      <th>NUMERO DO CONDOMINIO</th>\n",
       "    </tr>\n",
       "  </thead>\n",
       "  <tbody>\n",
       "    <tr>\n",
       "      <th>0</th>\n",
       "      <td>0010030001-4</td>\n",
       "      <td>1924</td>\n",
       "      <td>1</td>\n",
       "      <td>00-0</td>\n",
       "    </tr>\n",
       "    <tr>\n",
       "      <th>1</th>\n",
       "      <td>0010030002-2</td>\n",
       "      <td>1944</td>\n",
       "      <td>1</td>\n",
       "      <td>00-0</td>\n",
       "    </tr>\n",
       "    <tr>\n",
       "      <th>2</th>\n",
       "      <td>0010030003-0</td>\n",
       "      <td>1965</td>\n",
       "      <td>2</td>\n",
       "      <td>00-0</td>\n",
       "    </tr>\n",
       "    <tr>\n",
       "      <th>3</th>\n",
       "      <td>0010030004-9</td>\n",
       "      <td>1944</td>\n",
       "      <td>1</td>\n",
       "      <td>00-0</td>\n",
       "    </tr>\n",
       "    <tr>\n",
       "      <th>4</th>\n",
       "      <td>0010030005-7</td>\n",
       "      <td>1944</td>\n",
       "      <td>1</td>\n",
       "      <td>00-0</td>\n",
       "    </tr>\n",
       "    <tr>\n",
       "      <th>...</th>\n",
       "      <td>...</td>\n",
       "      <td>...</td>\n",
       "      <td>...</td>\n",
       "      <td>...</td>\n",
       "    </tr>\n",
       "    <tr>\n",
       "      <th>3498639</th>\n",
       "      <td>3101180238-1</td>\n",
       "      <td>1978</td>\n",
       "      <td>5</td>\n",
       "      <td>01-9</td>\n",
       "    </tr>\n",
       "    <tr>\n",
       "      <th>3498640</th>\n",
       "      <td>3101180239-1</td>\n",
       "      <td>1978</td>\n",
       "      <td>5</td>\n",
       "      <td>01-9</td>\n",
       "    </tr>\n",
       "    <tr>\n",
       "      <th>3498641</th>\n",
       "      <td>3101180240-3</td>\n",
       "      <td>1978</td>\n",
       "      <td>5</td>\n",
       "      <td>01-9</td>\n",
       "    </tr>\n",
       "    <tr>\n",
       "      <th>3498642</th>\n",
       "      <td>3101190001-4</td>\n",
       "      <td>0</td>\n",
       "      <td>0</td>\n",
       "      <td>00-0</td>\n",
       "    </tr>\n",
       "    <tr>\n",
       "      <th>3498643</th>\n",
       "      <td>3101200001-7</td>\n",
       "      <td>0</td>\n",
       "      <td>0</td>\n",
       "      <td>00-0</td>\n",
       "    </tr>\n",
       "  </tbody>\n",
       "</table>\n",
       "<p>3498644 rows × 4 columns</p>\n",
       "</div>"
      ],
      "text/plain": [
       "        NUMERO DO CONTRIBUINTE  ANO DA CONSTRUCAO CORRIGIDO  \\\n",
       "0                 0010030001-4                         1924   \n",
       "1                 0010030002-2                         1944   \n",
       "2                 0010030003-0                         1965   \n",
       "3                 0010030004-9                         1944   \n",
       "4                 0010030005-7                         1944   \n",
       "...                        ...                          ...   \n",
       "3498639           3101180238-1                         1978   \n",
       "3498640           3101180239-1                         1978   \n",
       "3498641           3101180240-3                         1978   \n",
       "3498642           3101190001-4                            0   \n",
       "3498643           3101200001-7                            0   \n",
       "\n",
       "         QUANTIDADE DE PAVIMENTOS NUMERO DO CONDOMINIO  \n",
       "0                               1                 00-0  \n",
       "1                               1                 00-0  \n",
       "2                               2                 00-0  \n",
       "3                               1                 00-0  \n",
       "4                               1                 00-0  \n",
       "...                           ...                  ...  \n",
       "3498639                         5                 01-9  \n",
       "3498640                         5                 01-9  \n",
       "3498641                         5                 01-9  \n",
       "3498642                         0                 00-0  \n",
       "3498643                         0                 00-0  \n",
       "\n",
       "[3498644 rows x 4 columns]"
      ]
     },
     "execution_count": 3,
     "metadata": {},
     "output_type": "execute_result"
    }
   ],
   "source": [
    "df[['NUMERO DO CONTRIBUINTE', 'ANO DA CONSTRUCAO CORRIGIDO', 'QUANTIDADE DE PAVIMENTOS', 'NUMERO DO CONDOMINIO']]"
   ]
  },
  {
   "cell_type": "markdown",
   "metadata": {},
   "source": [
    "## Localizando e agrupando os registros\n",
    "\n",
    "O número do contribuinte contem uma informação espacial importante, pois por ele podemos localizar o Setor, a Quadra e o Lote e a partir dai relacionar com as informações geográficas dessas feições.\n",
    "\n",
    "Portanto vamos separ essas informações e agrupa-las por lote, uma vez que temos lotes condominiais que possuem mais do que um contribuinte."
   ]
  },
  {
   "cell_type": "code",
   "execution_count": 4,
   "metadata": {},
   "outputs": [],
   "source": [
    "df['setor'] = df['NUMERO DO CONTRIBUINTE'].str[:3]"
   ]
  },
  {
   "cell_type": "code",
   "execution_count": 5,
   "metadata": {},
   "outputs": [],
   "source": [
    "df['quadra'] = df['NUMERO DO CONTRIBUINTE'].str[3:6]"
   ]
  },
  {
   "cell_type": "markdown",
   "metadata": {},
   "source": [
    "## Isolando apenas os setore de interesse\n",
    "\n",
    "Vamos nos concentrar em uma determinada região de interesse e para isso filtrar apenas aqueles que intersectam determinado distrito\n",
    "\n",
    "Para isso vamos utilizar as seguintes camadas do GeoSampa:\n",
    "\n",
    "* Setores fiscais\n",
    "* Distritos"
   ]
  },
  {
   "cell_type": "code",
   "execution_count": 21,
   "metadata": {},
   "outputs": [],
   "source": [
    "import geopandas as gpd\n",
    "import os"
   ]
  },
  {
   "cell_type": "code",
   "execution_count": 24,
   "metadata": {},
   "outputs": [],
   "source": [
    "path = os.path.abspath(\".\")"
   ]
  },
  {
   "cell_type": "code",
   "execution_count": 36,
   "metadata": {},
   "outputs": [],
   "source": [
    "zip_setores = f\"zip://{path}/downloads/SIRGAS_SHP_setorfiscal.zip!SIRGAS_SHP_setorfiscal/SIRGAS_SHP_setorfiscal.shp\"\n",
    "zip_distritos = f\"zip://{path}/downloads/SIRGAS_SHP_distrito.zip!SIRGAS_SHP_distrito/SIRGAS_SHP_distrito_polygon.shp\""
   ]
  },
  {
   "cell_type": "code",
   "execution_count": 37,
   "metadata": {},
   "outputs": [],
   "source": [
    "gdf_setores = gpd.read_file(zip_setores)\n",
    "gdf_distritos = gpd.read_file(zip_distritos)"
   ]
  },
  {
   "cell_type": "markdown",
   "metadata": {},
   "source": [
    "### Lotes condominiais\n",
    "\n",
    "É necessário tratar os lotes que são condominiais e tem mais do que um número de contribuinte.\n",
    "\n",
    "Para isso vamos desiignar as letras CD e o `NUMERO DO CONDOMINIO` para qualifica-los"
   ]
  },
  {
   "cell_type": "code",
   "execution_count": 6,
   "metadata": {},
   "outputs": [
    {
     "name": "stdout",
     "output_type": "stream",
     "text": [
      "CPU times: user 4min 11s, sys: 747 ms, total: 4min 11s\n",
      "Wall time: 4min 11s\n"
     ]
    }
   ],
   "source": [
    "%%time\n",
    "# Essa célula costuma demorar alguns minutos para rodar\n",
    "# Seria interessante considerar uma agregação somente com os lotes condominiais antes de roda-la\n",
    "\n",
    "def lote(x):\n",
    "    if x[1]['NUMERO DO CONDOMINIO'] == '00-0':\n",
    "        return x[1]['NUMERO DO CONTRIBUINTE'][6:10]\n",
    "    else:\n",
    "        return 'CD' + x[1]['NUMERO DO CONDOMINIO'][:2]\n",
    "    \n",
    "df['lote'] = list(map(lambda x: lote(x), df[['NUMERO DO CONTRIBUINTE', 'NUMERO DO CONDOMINIO']].iterrows()))"
   ]
  },
  {
   "cell_type": "code",
   "execution_count": 21,
   "metadata": {},
   "outputs": [
    {
     "name": "stdout",
     "output_type": "stream",
     "text": [
      "CPU times: user 797 ms, sys: 112 ms, total: 909 ms\n",
      "Wall time: 908 ms\n"
     ]
    },
    {
     "data": {
      "text/html": [
       "<div>\n",
       "<style scoped>\n",
       "    .dataframe tbody tr th:only-of-type {\n",
       "        vertical-align: middle;\n",
       "    }\n",
       "\n",
       "    .dataframe tbody tr th {\n",
       "        vertical-align: top;\n",
       "    }\n",
       "\n",
       "    .dataframe thead th {\n",
       "        text-align: right;\n",
       "    }\n",
       "</style>\n",
       "<table border=\"1\" class=\"dataframe\">\n",
       "  <thead>\n",
       "    <tr style=\"text-align: right;\">\n",
       "      <th></th>\n",
       "      <th></th>\n",
       "      <th></th>\n",
       "      <th>ANO DA CONSTRUCAO CORRIGIDO</th>\n",
       "      <th>QUANTIDADE DE PAVIMENTOS</th>\n",
       "    </tr>\n",
       "    <tr>\n",
       "      <th>setor</th>\n",
       "      <th>quadra</th>\n",
       "      <th>lote</th>\n",
       "      <th></th>\n",
       "      <th></th>\n",
       "    </tr>\n",
       "  </thead>\n",
       "  <tbody>\n",
       "    <tr>\n",
       "      <th rowspan=\"5\" valign=\"top\">001</th>\n",
       "      <th rowspan=\"5\" valign=\"top\">003</th>\n",
       "      <th>0001</th>\n",
       "      <td>1</td>\n",
       "      <td>1</td>\n",
       "    </tr>\n",
       "    <tr>\n",
       "      <th>0002</th>\n",
       "      <td>1</td>\n",
       "      <td>1</td>\n",
       "    </tr>\n",
       "    <tr>\n",
       "      <th>0003</th>\n",
       "      <td>1</td>\n",
       "      <td>1</td>\n",
       "    </tr>\n",
       "    <tr>\n",
       "      <th>0004</th>\n",
       "      <td>1</td>\n",
       "      <td>1</td>\n",
       "    </tr>\n",
       "    <tr>\n",
       "      <th>0005</th>\n",
       "      <td>1</td>\n",
       "      <td>1</td>\n",
       "    </tr>\n",
       "    <tr>\n",
       "      <th>...</th>\n",
       "      <th>...</th>\n",
       "      <th>...</th>\n",
       "      <td>...</td>\n",
       "      <td>...</td>\n",
       "    </tr>\n",
       "    <tr>\n",
       "      <th rowspan=\"5\" valign=\"top\">310</th>\n",
       "      <th rowspan=\"2\" valign=\"top\">117</th>\n",
       "      <th>CD01</th>\n",
       "      <td>44</td>\n",
       "      <td>44</td>\n",
       "    </tr>\n",
       "    <tr>\n",
       "      <th>CD02</th>\n",
       "      <td>135</td>\n",
       "      <td>135</td>\n",
       "    </tr>\n",
       "    <tr>\n",
       "      <th>118</th>\n",
       "      <th>CD01</th>\n",
       "      <td>240</td>\n",
       "      <td>240</td>\n",
       "    </tr>\n",
       "    <tr>\n",
       "      <th>119</th>\n",
       "      <th>0001</th>\n",
       "      <td>1</td>\n",
       "      <td>1</td>\n",
       "    </tr>\n",
       "    <tr>\n",
       "      <th>120</th>\n",
       "      <th>0001</th>\n",
       "      <td>1</td>\n",
       "      <td>1</td>\n",
       "    </tr>\n",
       "  </tbody>\n",
       "</table>\n",
       "<p>1661100 rows × 2 columns</p>\n",
       "</div>"
      ],
      "text/plain": [
       "                   ANO DA CONSTRUCAO CORRIGIDO  QUANTIDADE DE PAVIMENTOS\n",
       "setor quadra lote                                                       \n",
       "001   003    0001                            1                         1\n",
       "             0002                            1                         1\n",
       "             0003                            1                         1\n",
       "             0004                            1                         1\n",
       "             0005                            1                         1\n",
       "...                                        ...                       ...\n",
       "310   117    CD01                           44                        44\n",
       "             CD02                          135                       135\n",
       "      118    CD01                          240                       240\n",
       "      119    0001                            1                         1\n",
       "      120    0001                            1                         1\n",
       "\n",
       "[1661100 rows x 2 columns]"
      ]
     },
     "execution_count": 21,
     "metadata": {},
     "output_type": "execute_result"
    }
   ],
   "source": [
    "%%time\n",
    "(df[['setor', 'quadra', 'lote', 'ANO DA CONSTRUCAO CORRIGIDO', 'QUANTIDADE DE PAVIMENTOS']].\n",
    " groupby(['setor', 'quadra', 'lote']).\n",
    " count())"
   ]
  },
  {
   "cell_type": "markdown",
   "metadata": {},
   "source": [
    "## Histograma da quantidade de pavimentos\n",
    "\n",
    "É necessário ter uma ideia da distribuição de valores na coluna de quantidade de pavimentos, para podermos definir o que exatamente queremos analisar e demonstrar"
   ]
  },
  {
   "cell_type": "code",
   "execution_count": 11,
   "metadata": {},
   "outputs": [
    {
     "data": {
      "text/plain": [
       "array([ 1,  2,  8,  4,  6,  3,  5,  0,  7,  9, 11, 12, 16, 10, 13, 21, 24,\n",
       "       20, 19, 17, 25, 30, 14, 15, 26, 18, 23, 45, 27, 28, 22, 39, 42, 36,\n",
       "       33, 31, 32, 34, 35, 29, 38, 37, 46, 43, 40, 41, 47, 50, 44])"
      ]
     },
     "execution_count": 11,
     "metadata": {},
     "output_type": "execute_result"
    }
   ],
   "source": [
    "df['QUANTIDADE DE PAVIMENTOS'].unique()"
   ]
  },
  {
   "cell_type": "code",
   "execution_count": 18,
   "metadata": {},
   "outputs": [
    {
     "data": {
      "text/plain": [
       "<matplotlib.axes._subplots.AxesSubplot at 0x7fb62d95a2b0>"
      ]
     },
     "execution_count": 18,
     "metadata": {},
     "output_type": "execute_result"
    },
    {
     "data": {
      "image/png": "[encoded data removed]",
      "text/plain": [
       "<Figure size 432x288 with 1 Axes>"
      ]
     },
     "metadata": {
      "needs_background": "light"
     },
     "output_type": "display_data"
    }
   ],
   "source": [
    "df['QUANTIDADE DE PAVIMENTOS'].hist(bins=len(df['QUANTIDADE DE PAVIMENTOS'].unique()))"
   ]
  },
  {
   "cell_type": "markdown",
   "metadata": {},
   "source": [
    "Por esse histograma é possível constatar que a imensa maioria dos imóveis da cidade de São Paulo tem menos que cinco pavimentos, com uma predominância de casas térreas e assobradadas."
   ]
  },
  {
   "cell_type": "markdown",
   "metadata": {},
   "source": [
    "## Espacializando a informação\n",
    "\n",
    "Para espacializar a informação temos a opção de contrenta-las por quadra fiscal e dessa forma produzir mapas temáticos por um determinado período"
   ]
  },
  {
   "cell_type": "code",
   "execution_count": null,
   "metadata": {},
   "outputs": [],
   "source": []
  }
 ],
 "metadata": {
  "kernelspec": {
   "display_name": "Python 3",
   "language": "python",
   "name": "python3"
  },
  "language_info": {
   "codemirror_mode": {
    "name": "ipython",
    "version": 3
   },
   "file_extension": ".py",
   "mimetype": "text/x-python",
   "name": "python",
   "nbconvert_exporter": "python",
   "pygments_lexer": "ipython3",
   "version": "3.8.2"
  }
 },
 "nbformat": 4,
 "nbformat_minor": 4
}
