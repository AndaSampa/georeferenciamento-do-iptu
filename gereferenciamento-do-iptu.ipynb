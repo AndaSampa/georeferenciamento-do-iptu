{
 "cells": [
  {
   "cell_type": "markdown",
   "metadata": {},
   "source": [
    "# Georeferenciamento da base de dados de IPTU do Município da Cidade de São Paulo\n",
    "\n",
    "Está disponível para download através do site do [Geosampa](http://geosampa.prefeitura.sp.gov.br/PaginasPublicas/_SBC.aspx) os arquivos de IPTU desde 1995 até agora. Esses arquivos contem registros de todos os lancamentos de IPTU além de informações que podem ser bastante úteis para compreender a cidade, seus parcelamentos e edificações.\n",
    "\n",
    "## Objetivo\n",
    "\n",
    "Com a finalidade de facilitar o acesso e estimular de maneira pedagógica a análise dos dados abertos disponíveis criamos aqui um passo-a-passo de como carregar as informações do IPTU, fazer algumas análises básicas e posteriormente georeferenciar essas informações.\n",
    "\n",
    "## Metodologia\n",
    "\n",
    "Para isso vamos utilizar a linguagem de programação Python e utilizar a biblioteca de analise de dados Pandas e GeoPandas, e exemplificar passo-a-passo como acessar, analisar e georeferenciar os dados do IPTU\n",
    "\n",
    "## Download da Tabela de IPTU\n",
    "\n",
    "A [Tabela de IPTU de 2019 está disponível nesse link](mapas.geosampa.prodam/PaginasPublicas/downloadIfr.aspx?orig=DownloadCamadas&arq=11_Cadastro%5C%5CIPTU%5C%5CXLS_CSV%5C%5CIPTU2019&arqTipo=XLS_CSV), é disponibilizada em formato CSV e é disponibilizada em um arquivo ZIP.\n",
    "\n",
    "Vamos expandir o arquivo ZIP na pasta Downloads e carregar o arquivo na memória com o Pandas"
   ]
  }
 ],
 "metadata": {
  "kernelspec": {
   "display_name": "Python 3",
   "language": "python",
   "name": "python3"
  },
  "language_info": {
   "codemirror_mode": {
    "name": "ipython",
    "version": 3
   },
   "file_extension": ".py",
   "mimetype": "text/x-python",
   "name": "python",
   "nbconvert_exporter": "python",
   "pygments_lexer": "ipython3",
   "version": "3.7.3"
  }
 },
 "nbformat": 4,
 "nbformat_minor": 2
}
